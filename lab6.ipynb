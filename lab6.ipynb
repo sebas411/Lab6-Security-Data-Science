{
 "cells": [
  {
   "cell_type": "markdown",
   "id": "f6229341",
   "metadata": {},
   "source": [
    "# Laboratorio 6 - Clasificación de Malware con DL"
   ]
  },
  {
   "cell_type": "code",
   "execution_count": 1,
   "id": "f0768527",
   "metadata": {},
   "outputs": [
    {
     "name": "stderr",
     "output_type": "stream",
     "text": [
      "Matplotlib created a temporary config/cache directory at /tmp/matplotlib-wfrz4fbn because the default path (/home/sebas/.cache/matplotlib) is not a writable directory; it is highly recommended to set the MPLCONFIGDIR environment variable to a writable directory, in particular to speed up the import of Matplotlib and to better support multiprocessing.\n",
      "2023-05-01 23:05:54.257108: I tensorflow/core/util/port.cc:110] oneDNN custom operations are on. You may see slightly different numerical results due to floating-point round-off errors from different computation orders. To turn them off, set the environment variable `TF_ENABLE_ONEDNN_OPTS=0`.\n",
      "2023-05-01 23:05:54.267400: I tensorflow/tsl/cuda/cudart_stub.cc:28] Could not find cuda drivers on your machine, GPU will not be used.\n",
      "2023-05-01 23:05:54.318592: I tensorflow/tsl/cuda/cudart_stub.cc:28] Could not find cuda drivers on your machine, GPU will not be used.\n",
      "2023-05-01 23:05:54.319250: I tensorflow/core/platform/cpu_feature_guard.cc:182] This TensorFlow binary is optimized to use available CPU instructions in performance-critical operations.\n",
      "To enable the following instructions: AVX2 AVX_VNNI FMA, in other operations, rebuild TensorFlow with the appropriate compiler flags.\n",
      "2023-05-01 23:05:55.000102: W tensorflow/compiler/tf2tensorrt/utils/py_utils.cc:38] TF-TRT Warning: Could not find TensorRT\n"
     ]
    }
   ],
   "source": [
    "import os\n",
    "import numpy as np\n",
    "import pandas as pd\n",
    "import seaborn as sn; sn.set(font_scale=1.4)\n",
    "import matplotlib.pyplot as plt\n",
    "import cv2\n",
    "import tensorflow as tf\n",
    "from tensorflow.keras import Sequential\n",
    "from tensorflow.keras.layers import Conv2D, MaxPooling2D, Flatten, Dense\n",
    "from sklearn.metrics import classification_report\n",
    "from sklearn.utils import shuffle"
   ]
  },
  {
   "cell_type": "code",
   "execution_count": 2,
   "id": "8e53b708",
   "metadata": {},
   "outputs": [],
   "source": [
    "def load_data():\n",
    "    DIRECTORY = os.getcwd()\n",
    "    DIRECTORY = os.path.join(DIRECTORY, \"malimg_paper_dataset_imgs\")\n",
    "    class_names = []\n",
    "    labels = []\n",
    "    images = []\n",
    "    i = 0\n",
    "    for folder in os.listdir(DIRECTORY):\n",
    "        folder_directory = os.path.join(DIRECTORY, folder)\n",
    "        if not os.path.isdir(folder_directory): continue\n",
    "        class_names.append(folder)\n",
    "        \n",
    "        for file in os.listdir(folder_directory):\n",
    "            img_path = os.path.join(folder_directory, file)\n",
    "            image = cv2.imread(img_path)\n",
    "            image = cv2.cvtColor(image, cv2.COLOR_BGR2RGB)\n",
    "            image = cv2.resize(image, (150, 150))\n",
    "            labels.append(i)\n",
    "            images.append(image)\n",
    "            \n",
    "        i += 1\n",
    "    \n",
    "    images = np.array(images, dtype = 'float32')\n",
    "    labels = np.array(labels, dtype = 'int32')\n",
    "    \n",
    "    return class_names, images, labels"
   ]
  },
  {
   "cell_type": "code",
   "execution_count": 3,
   "id": "1bff1783",
   "metadata": {},
   "outputs": [],
   "source": [
    "class_names, images, labels = load_data()"
   ]
  },
  {
   "cell_type": "code",
   "execution_count": 27,
   "id": "85aff90e",
   "metadata": {},
   "outputs": [
    {
     "name": "stdout",
     "output_type": "stream",
     "text": [
      "Lolyda.AT 159\n",
      "VB.AT 408\n",
      "C2LOP.P 146\n",
      "Lolyda.AA3 123\n",
      "Yuner.A 800\n",
      "Rbot!gen 158\n",
      "C2LOP.gen!g 200\n",
      "Wintrim.BX 97\n",
      "Dontovo.A 162\n",
      "Malex.gen!J 136\n",
      "Swizzor.gen!I 132\n",
      "Allaple.A 2949\n",
      "Instantaccess 431\n",
      "Autorun.K 106\n",
      "Lolyda.AA1 213\n",
      "Dialplatform.B 177\n",
      "Skintrim.N 80\n",
      "Agent.FYI 116\n",
      "Swizzor.gen!E 128\n",
      "Allaple.L 1591\n",
      "Lolyda.AA2 184\n",
      "Fakerean 381\n",
      "Obfuscator.AD 142\n",
      "Alueron.gen!J 198\n",
      "Adialer.C 122\n"
     ]
    }
   ],
   "source": [
    "l_names, l_counts = np.unique(labels, return_counts=True)\n",
    "l_names = [class_names[l_id] for l_id in l_names]\n",
    "for i in range(len(l_names)):\n",
    "    print(l_names[i], l_counts[i])"
   ]
  },
  {
   "cell_type": "code",
   "execution_count": 6,
   "id": "293eff79",
   "metadata": {},
   "outputs": [],
   "source": [
    "images, labels = shuffle(images, labels, random_state=123)"
   ]
  },
  {
   "cell_type": "code",
   "execution_count": 7,
   "id": "d2fc3a6a",
   "metadata": {},
   "outputs": [],
   "source": [
    "breakpoint = int(len(images)*0.7)"
   ]
  },
  {
   "cell_type": "code",
   "execution_count": 8,
   "id": "24ce2a99",
   "metadata": {},
   "outputs": [],
   "source": [
    "train_images = images[:breakpoint]\n",
    "test_images = images[breakpoint:]\n",
    "train_labels = labels[:breakpoint]\n",
    "test_labels = labels[breakpoint:]"
   ]
  },
  {
   "cell_type": "code",
   "execution_count": 9,
   "id": "ec56b0c4",
   "metadata": {},
   "outputs": [
    {
     "name": "stdout",
     "output_type": "stream",
     "text": [
      "(6537,)\n"
     ]
    },
    {
     "data": {
      "text/plain": [
       "(150, 150, 3)"
      ]
     },
     "execution_count": 9,
     "metadata": {},
     "output_type": "execute_result"
    }
   ],
   "source": [
    "print(train_labels.shape)\n",
    "train_images[0].shape\n"
   ]
  },
  {
   "cell_type": "code",
   "execution_count": 13,
   "id": "d3c48b33",
   "metadata": {},
   "outputs": [],
   "source": [
    "model = Sequential([\n",
    "    Conv2D(32, (3, 3), activation = 'relu', input_shape = (150, 150, 3)),\n",
    "    MaxPooling2D(2, 2),\n",
    "    Conv2D(32, (3, 3), activation = 'relu'),\n",
    "    MaxPooling2D(2, 2),\n",
    "    Flatten(),\n",
    "    Dense(128, activation=tf.nn.relu),\n",
    "    Dense(len(class_names), activation=tf.nn.softmax)\n",
    "])"
   ]
  },
  {
   "cell_type": "code",
   "execution_count": 14,
   "id": "6093ef4c",
   "metadata": {},
   "outputs": [],
   "source": [
    "model.compile(optimizer = 'adam', loss = 'sparse_categorical_crossentropy', metrics = ['accuracy'])"
   ]
  },
  {
   "cell_type": "code",
   "execution_count": 15,
   "id": "15607f63",
   "metadata": {},
   "outputs": [
    {
     "name": "stdout",
     "output_type": "stream",
     "text": [
      "Epoch 1/6\n",
      "41/41 [==============================] - 19s 448ms/step - loss: 191.3834 - accuracy: 0.5162 - val_loss: 0.4316 - val_accuracy: 0.9029\n",
      "Epoch 2/6\n",
      "41/41 [==============================] - 19s 454ms/step - loss: 0.2023 - accuracy: 0.9468 - val_loss: 0.2309 - val_accuracy: 0.9465\n",
      "Epoch 3/6\n",
      "41/41 [==============================] - 18s 446ms/step - loss: 0.0229 - accuracy: 0.9952 - val_loss: 0.2419 - val_accuracy: 0.9427\n",
      "Epoch 4/6\n",
      "41/41 [==============================] - 19s 461ms/step - loss: 0.0043 - accuracy: 0.9990 - val_loss: 0.2198 - val_accuracy: 0.9495\n",
      "Epoch 5/6\n",
      "41/41 [==============================] - 18s 442ms/step - loss: 4.8936e-04 - accuracy: 1.0000 - val_loss: 0.2135 - val_accuracy: 0.9580\n",
      "Epoch 6/6\n",
      "41/41 [==============================] - 19s 452ms/step - loss: 1.4926e-04 - accuracy: 1.0000 - val_loss: 0.2284 - val_accuracy: 0.9572\n"
     ]
    }
   ],
   "source": [
    "history = model.fit(train_images, train_labels, batch_size=128, epochs=6, validation_split=0.2)"
   ]
  },
  {
   "cell_type": "code",
   "execution_count": 16,
   "id": "852aebf5",
   "metadata": {},
   "outputs": [],
   "source": [
    "def plot_accuracy_loss(history):\n",
    "    fig = plt.figure(figsize=(10,5))\n",
    "    \n",
    "    plt.subplot(221)\n",
    "    plt.plot(history.history['accuracy'], 'bo--', label='acc')\n",
    "    plt.plot(history.history['val_accuracy'], 'ro--', label='val_acc')\n",
    "    plt.title(\"train_acc vs val_acc\")\n",
    "    plt.ylabel(\"accuracy\")\n",
    "    plt.xlabel(\"epochs\")\n",
    "    plt.legend()\n",
    "    \n",
    "    plt.subplot(222)\n",
    "    plt.plot(history.history['loss'], 'bo--', label='loss')\n",
    "    plt.plot(history.history['val_loss'], 'ro--', label='val_loss')\n",
    "    plt.title(\"train_loss vs val_loss\")\n",
    "    plt.ylabel(\"loss\")\n",
    "    plt.xlabel(\"epochs\")\n",
    "    plt.legend()\n",
    "\n",
    "    plt.show()"
   ]
  },
  {
   "cell_type": "code",
   "execution_count": 17,
   "id": "c0954d5d",
   "metadata": {},
   "outputs": [
    {
     "data": {
      "image/png": "[encoded data removed]",
      "text/plain": [
       "<Figure size 1000x500 with 2 Axes>"
      ]
     },
     "metadata": {},
     "output_type": "display_data"
    }
   ],
   "source": [
    "plot_accuracy_loss(history)"
   ]
  },
  {
   "cell_type": "code",
   "execution_count": 18,
   "id": "c60d23b0",
   "metadata": {},
   "outputs": [
    {
     "name": "stdout",
     "output_type": "stream",
     "text": [
      "88/88 [==============================] - 2s 27ms/step - loss: 0.2567 - accuracy: 0.9515\n"
     ]
    }
   ],
   "source": [
    "test_loss = model.evaluate(test_images, test_labels)"
   ]
  },
  {
   "cell_type": "code",
   "execution_count": 21,
   "id": "7ea0cf42",
   "metadata": {},
   "outputs": [
    {
     "name": "stdout",
     "output_type": "stream",
     "text": [
      "88/88 [==============================] - 2s 27ms/step\n"
     ]
    }
   ],
   "source": [
    "predictions = model.predict(test_images)\n",
    "pred_labels = np.argmax(predictions, axis=1)"
   ]
  },
  {
   "cell_type": "code",
   "execution_count": 22,
   "id": "8921baec",
   "metadata": {},
   "outputs": [
    {
     "name": "stdout",
     "output_type": "stream",
     "text": [
      "              precision    recall  f1-score   support\n",
      "\n",
      "           0       1.00      1.00      1.00        47\n",
      "           1       0.97      1.00      0.99       113\n",
      "           2       0.52      0.38      0.44        42\n",
      "           3       1.00      1.00      1.00        34\n",
      "           4       1.00      1.00      1.00       225\n",
      "           5       0.91      0.93      0.92        43\n",
      "           6       0.81      0.83      0.82        77\n",
      "           7       1.00      0.59      0.74        34\n",
      "           8       1.00      1.00      1.00        38\n",
      "           9       0.92      0.51      0.66        47\n",
      "          10       0.53      0.55      0.54        42\n",
      "          11       0.94      1.00      0.97       905\n",
      "          12       1.00      1.00      1.00       135\n",
      "          13       1.00      1.00      1.00        27\n",
      "          14       0.95      0.97      0.96        71\n",
      "          15       1.00      0.98      0.99        44\n",
      "          16       0.96      1.00      0.98        22\n",
      "          17       1.00      0.93      0.96        28\n",
      "          18       0.50      0.35      0.41        37\n",
      "          19       1.00      1.00      1.00       477\n",
      "          20       1.00      0.95      0.97        56\n",
      "          21       1.00      0.98      0.99       117\n",
      "          22       1.00      1.00      1.00        52\n",
      "          23       1.00      0.98      0.99        60\n",
      "          24       1.00      1.00      1.00        29\n",
      "\n",
      "    accuracy                           0.95      2802\n",
      "   macro avg       0.92      0.88      0.89      2802\n",
      "weighted avg       0.95      0.95      0.95      2802\n",
      "\n"
     ]
    }
   ],
   "source": [
    "print(classification_report(test_labels, pred_labels))"
   ]
  }
 ],
 "metadata": {
  "kernelspec": {
   "display_name": "sds_kernel",
   "language": "python",
   "name": "sds_kernel"
  },
  "language_info": {
   "codemirror_mode": {
    "name": "ipython",
    "version": 3
   },
   "file_extension": ".py",
   "mimetype": "text/x-python",
   "name": "python",
   "nbconvert_exporter": "python",
   "pygments_lexer": "ipython3",
   "version": "3.11.2"
  }
 },
 "nbformat": 4,
 "nbformat_minor": 5
}
