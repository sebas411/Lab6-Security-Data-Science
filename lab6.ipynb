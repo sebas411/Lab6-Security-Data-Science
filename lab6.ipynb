{
 "cells": [
  {
   "cell_type": "markdown",
   "id": "56506d11",
   "metadata": {},
   "source": [
    "# Laboratorio 6 - Clasificación de Malware con DL"
   ]
  }
 ],
 "metadata": {
  "kernelspec": {
   "display_name": "Python 3 (ipykernel)",
   "language": "python",
   "name": "python3"
  },
  "language_info": {
   "codemirror_mode": {
    "name": "ipython",
    "version": 3
   },
   "file_extension": ".py",
   "mimetype": "text/x-python",
   "name": "python",
   "nbconvert_exporter": "python",
   "pygments_lexer": "ipython3",
   "version": "3.11.2"
  }
 },
 "nbformat": 4,
 "nbformat_minor": 5
}
